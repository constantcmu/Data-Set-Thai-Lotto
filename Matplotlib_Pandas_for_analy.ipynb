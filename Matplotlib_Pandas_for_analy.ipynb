{
 "cells": [
  {
   "cell_type": "markdown",
   "metadata": {},
   "source": [
    "# Import Required Libraries\n",
    "Import the necessary libraries, including Pandas and Matplotlib."
   ]
  },
  {
   "cell_type": "code",
   "execution_count": 2,
   "metadata": {},
   "outputs": [
    {
     "ename": "ModuleNotFoundError",
     "evalue": "No module named 'pandas'",
     "output_type": "error",
     "traceback": [
      "\u001b[1;31m---------------------------------------------------------------------------\u001b[0m",
      "\u001b[1;31mModuleNotFoundError\u001b[0m                       Traceback (most recent call last)",
      "Cell \u001b[1;32mIn[2], line 1\u001b[0m\n\u001b[1;32m----> 1\u001b[0m \u001b[38;5;28;01mimport\u001b[39;00m\u001b[38;5;250m \u001b[39m\u001b[38;5;21;01mpandas\u001b[39;00m\u001b[38;5;250m \u001b[39m\u001b[38;5;28;01mas\u001b[39;00m\u001b[38;5;250m \u001b[39m\u001b[38;5;21;01mpd\u001b[39;00m\n\u001b[0;32m      2\u001b[0m \u001b[38;5;28;01mimport\u001b[39;00m\u001b[38;5;250m \u001b[39m\u001b[38;5;21;01mmatplotlib\u001b[39;00m\u001b[38;5;21;01m.\u001b[39;00m\u001b[38;5;21;01mpyplot\u001b[39;00m\u001b[38;5;250m \u001b[39m\u001b[38;5;28;01mas\u001b[39;00m\u001b[38;5;250m \u001b[39m\u001b[38;5;21;01mplt\u001b[39;00m\n\u001b[0;32m      4\u001b[0m \u001b[38;5;66;03m# Ensure plots are displayed within the notebook\u001b[39;00m\n",
      "\u001b[1;31mModuleNotFoundError\u001b[0m: No module named 'pandas'"
     ]
    }
   ],
   "source": [
    "import pandas as pd\n",
    "import matplotlib.pyplot as plt\n",
    "\n",
    "# Ensure plots are displayed within the notebook\n",
    "%matplotlib inline"
   ]
  },
  {
   "cell_type": "markdown",
   "metadata": {},
   "source": [
    "# Load the Dataset\n",
    "Load the CSV file into a Pandas DataFrame."
   ]
  },
  {
   "cell_type": "code",
   "execution_count": null,
   "metadata": {},
   "outputs": [],
   "source": [
    "# Load the CSV file into a Pandas DataFrame\n",
    "file_path = '/d:/RID_NATTAWUT/Coding/github_copilot/rich_huay/Data-Set-Thai-Lotto/CSV_lotto/lotto_prize_combined.csv'\n",
    "df = pd.read_csv(file_path)\n",
    "\n",
    "# Display the first few rows of the DataFrame to verify the data is loaded correctly\n",
    "df.head()"
   ]
  },
  {
   "cell_type": "markdown",
   "metadata": {},
   "source": [
    "# Data Cleaning and Preparation\n",
    "Clean and prepare the data for analysis, including handling missing values and converting data types."
   ]
  },
  {
   "cell_type": "code",
   "execution_count": null,
   "metadata": {},
   "outputs": [],
   "source": [
    "# Data Cleaning and Preparation\n",
    "\n",
    "# Check for missing values in the DataFrame\n",
    "missing_values = df.isnull().sum()\n",
    "print(\"Missing values in each column:\\n\", missing_values)\n",
    "\n",
    "# Fill missing values with a placeholder or appropriate value\n",
    "df.fillna('N/A', inplace=True)\n",
    "\n",
    "# Convert 'date' column to datetime format\n",
    "df['date'] = pd.to_datetime(df['date'], format='%d-%m-%Y')\n",
    "\n",
    "# Convert prize columns from string representation of lists to actual lists\n",
    "import ast\n",
    "\n",
    "prize_columns = ['prize_1st', 'prize_2digits', 'prize_pre_3digit', 'prize_sub_3digits', 'prize_2nd', 'prize_3rd', 'prize_4th', 'prize_5th']\n",
    "for col in prize_columns:\n",
    "    df[col] = df[col].apply(ast.literal_eval)\n",
    "\n",
    "# Display the cleaned DataFrame\n",
    "df.head()"
   ]
  },
  {
   "cell_type": "markdown",
   "metadata": {},
   "source": [
    "# Visualize the Distribution of Numbers\n",
    "Use Matplotlib to create visualizations of the distribution of numbers in the dataset."
   ]
  },
  {
   "cell_type": "code",
   "execution_count": null,
   "metadata": {},
   "outputs": [],
   "source": [
    "import numpy as np\n",
    "\n",
    "# Extract all numbers from the prize columns and flatten the list\n",
    "all_numbers = []\n",
    "for col in prize_columns:\n",
    "    all_numbers.extend(df[col].explode().dropna().astype(int).tolist())\n",
    "\n",
    "# Create a Pandas Series from the list of all numbers\n",
    "numbers_series = pd.Series(all_numbers)\n",
    "\n",
    "# Plot the distribution of numbers using a histogram\n",
    "plt.figure(figsize=(10, 6))\n",
    "plt.hist(numbers_series, bins=50, color='blue', edgecolor='black')\n",
    "plt.title('Distribution of Numbers in Lotto Prizes')\n",
    "plt.xlabel('Number')\n",
    "plt.ylabel('Frequency')\n",
    "plt.grid(True)\n",
    "plt.show()\n",
    "\n",
    "# Plot the top 10 most frequent numbers\n",
    "top_10_numbers = numbers_series.value_counts().head(10)\n",
    "plt.figure(figsize=(10, 6))\n",
    "top_10_numbers.plot(kind='bar', color='green', edgecolor='black')\n",
    "plt.title('Top 10 Most Frequent Numbers in Lotto Prizes')\n",
    "plt.xlabel('Number')\n",
    "plt.ylabel('Frequency')\n",
    "plt.grid(True)\n",
    "plt.show()\n",
    "\n",
    "# Plot the top 10 least frequent numbers\n",
    "bottom_10_numbers = numbers_series.value_counts().tail(10)\n",
    "plt.figure(figsize=(10, 6))\n",
    "bottom_10_numbers.plot(kind='bar', color='red', edgecolor='black')\n",
    "plt.title('Top 10 Least Frequent Numbers in Lotto Prizes')\n",
    "plt.xlabel('Number')\n",
    "plt.ylabel('Frequency')\n",
    "plt.grid(True)\n",
    "plt.show()"
   ]
  },
  {
   "cell_type": "markdown",
   "metadata": {},
   "source": [
    "# Find the Most Frequent Numbers\n",
    "Analyze the dataset to find the most frequently occurring numbers."
   ]
  },
  {
   "cell_type": "code",
   "execution_count": null,
   "metadata": {},
   "outputs": [],
   "source": [
    "import numpy as np\n",
    "\n",
    "# Extract all numbers from the prize columns and flatten the list\n",
    "all_numbers = []\n",
    "for col in prize_columns:\n",
    "    all_numbers.extend(df[col].explode().dropna().astype(int).tolist())\n",
    "\n",
    "# Create a Pandas Series from the list of all numbers\n",
    "numbers_series = pd.Series(all_numbers)\n",
    "\n",
    "# Plot the distribution of numbers using a histogram\n",
    "plt.figure(figsize=(10, 6))\n",
    "plt.hist(numbers_series, bins=50, color='blue', edgecolor='black')\n",
    "plt.title('Distribution of Numbers in Lotto Prizes')\n",
    "plt.xlabel('Number')\n",
    "plt.ylabel('Frequency')\n",
    "plt.grid(True)\n",
    "plt.show()\n",
    "\n",
    "# Plot the top 10 most frequent numbers\n",
    "top_10_numbers = numbers_series.value_counts().head(10)\n",
    "plt.figure(figsize=(10, 6))\n",
    "top_10_numbers.plot(kind='bar', color='green', edgecolor='black')\n",
    "plt.title('Top 10 Most Frequent Numbers in Lotto Prizes')\n",
    "plt.xlabel('Number')\n",
    "plt.ylabel('Frequency')\n",
    "plt.grid(True)\n",
    "plt.show()\n",
    "\n",
    "# Plot the top 10 least frequent numbers\n",
    "bottom_10_numbers = numbers_series.value_counts().tail(10)\n",
    "plt.figure(figsize=(10, 6))\n",
    "bottom_10_numbers.plot(kind='bar', color='red', edgecolor='black')\n",
    "plt.title('Top 10 Least Frequent Numbers in Lotto Prizes')\n",
    "plt.xlabel('Number')\n",
    "plt.ylabel('Frequency')\n",
    "plt.grid(True)\n",
    "plt.show()"
   ]
  },
  {
   "cell_type": "markdown",
   "metadata": {},
   "source": [
    "# Find the Least Frequent Numbers\n",
    "Analyze the dataset to find the least frequently occurring numbers."
   ]
  },
  {
   "cell_type": "code",
   "execution_count": null,
   "metadata": {},
   "outputs": [],
   "source": [
    "import numpy as np\n",
    "\n",
    "# Extract all numbers from the prize columns and flatten the list\n",
    "all_numbers = []\n",
    "for col in prize_columns:\n",
    "    all_numbers.extend(df[col].explode().dropna().astype(int).tolist())\n",
    "\n",
    "# Create a Pandas Series from the list of all numbers\n",
    "numbers_series = pd.Series(all_numbers)\n",
    "\n",
    "# Plot the distribution of numbers using a histogram\n",
    "plt.figure(figsize=(10, 6))\n",
    "plt.hist(numbers_series, bins=50, color='blue', edgecolor='black')\n",
    "plt.title('Distribution of Numbers in Lotto Prizes')\n",
    "plt.xlabel('Number')\n",
    "plt.ylabel('Frequency')\n",
    "plt.grid(True)\n",
    "plt.show()\n",
    "\n",
    "# Plot the top 10 most frequent numbers\n",
    "top_10_numbers = numbers_series.value_counts().head(10)\n",
    "plt.figure(figsize=(10, 6))\n",
    "top_10_numbers.plot(kind='bar', color='green', edgecolor='black')\n",
    "plt.title('Top 10 Most Frequent Numbers in Lotto Prizes')\n",
    "plt.xlabel('Number')\n",
    "plt.ylabel('Frequency')\n",
    "plt.grid(True)\n",
    "plt.show()\n",
    "\n",
    "# Plot the top 10 least frequent numbers\n",
    "bottom_10_numbers = numbers_series.value_counts().tail(10)\n",
    "plt.figure(figsize=(10, 6))\n",
    "bottom_10_numbers.plot(kind='bar', color='red', edgecolor='black')\n",
    "plt.title('Top 10 Least Frequent Numbers in Lotto Prizes')\n",
    "plt.xlabel('Number')\n",
    "plt.ylabel('Frequency')\n",
    "plt.grid(True)\n",
    "plt.show()"
   ]
  }
 ],
 "metadata": {
  "kernelspec": {
   "display_name": ".venv",
   "language": "python",
   "name": "python3"
  },
  "language_info": {
   "codemirror_mode": {
    "name": "ipython",
    "version": 3
   },
   "file_extension": ".py",
   "mimetype": "text/x-python",
   "name": "python",
   "nbconvert_exporter": "python",
   "pygments_lexer": "ipython3",
   "version": "3.13.2"
  }
 },
 "nbformat": 4,
 "nbformat_minor": 2
}
